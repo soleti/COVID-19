{
 "cells": [
  {
   "cell_type": "markdown",
   "metadata": {},
   "source": [
    "# 7-day rolling average of confirmed cases, normalized to the maximum value\n",
    "In this notebook we plot the 7-day rolling average of the confirmed cases for each Italian province, normalized to the maximum increase. The aim is to show the chronological and geographical evolution of the peak. "
   ]
  },
  {
   "cell_type": "code",
   "execution_count": 5,
   "metadata": {},
   "outputs": [],
   "source": [
    "import numpy as np\n",
    "import pandas as pd\n",
    "\n",
    "import matplotlib.colors\n",
    "from matplotlib import gridspec\n",
    "from matplotlib import cm\n",
    "import matplotlib.pyplot as plt"
   ]
  },
  {
   "cell_type": "code",
   "execution_count": 6,
   "metadata": {},
   "outputs": [],
   "source": [
    "df = pd.read_csv(\"https://raw.githubusercontent.com/pcm-dpc/COVID-19/master/dati-province/dpc-covid19-ita-province.csv\")\n",
    "df = df.query(\"codice_provincia < 800\")\n",
    "df[\"increase\"] =  df.groupby(['codice_provincia'])['totale_casi'].diff().fillna(0)\n",
    "df[\"increase\"][df[\"increase\"] < 0] = 0\n",
    "\n",
    "total = df.pivot(\"denominazione_provincia\",\"data\",\"totale_casi\")\n",
    "\n",
    "increase = df.pivot(\"denominazione_provincia\", \"data\", \"increase\")\n",
    "max_increase = increase.max(axis=1)\n",
    "\n",
    "for prov in increase.index:\n",
    "    increase.loc[prov] /= max_increase.loc[prov]\n",
    "\n",
    "for prov in increase.index:\n",
    "    increase.loc[prov] = increase.loc[prov].rolling(7).mean().fillna(0)\n",
    "    \n",
    "sorted_list = []\n",
    "for prov in increase.index:\n",
    "    dates = list(increase.loc[prov])\n",
    "    sorted_list.append(dates.index(max(dates)))\n",
    "    \n",
    "total[\"order\"] = sorted_list\n",
    "total = total.sort_values(by=\"order\",ascending=False)\n",
    "total = total.drop(columns=[\"order\"])\n",
    "\n",
    "increase[\"order\"] = sorted_list\n",
    "increase = increase.sort_values(by=\"order\",ascending=False)\n",
    "increase = increase.drop(columns=[\"order\"])"
   ]
  },
  {
   "cell_type": "code",
   "execution_count": null,
   "metadata": {},
   "outputs": [],
   "source": [
    "fig, axs = plt.subplots(1,2,figsize=(12,12),constrained_layout=True)\n",
    "gs = gridspec.GridSpec(1, 2, width_ratios=[3, 1],wspace=0.01) \n",
    "ax = plt.subplot(gs[0])\n",
    "ax1 = plt.subplot(gs[1])\n",
    "im = ax.imshow(increase,cmap='Spectral_r',aspect='auto',interpolation='none')\n",
    "ax.set_xticks(np.arange(0,213,7,dtype=np.int32))\n",
    "ax.set_xticklabels(increase.columns[::7],rotation=90)\n",
    "ax.set_yticklabels(increase.index)\n",
    "ax.set_yticks(np.arange(len(increase.index)))\n",
    "ax.tick_params(labelsize=5)\n",
    "\n",
    "for s in increase.index:\n",
    "    y_coord = increase.index.get_loc(s)\n",
    "    peak = increase.loc[s].max()\n",
    "    x_coord = pd.Index(increase.loc[s]).get_loc(peak)\n",
    "    if isinstance(x_coord,np.ndarray):\n",
    "        x_coord = np.where(x_coord==True)[0][0]\n",
    "    rect = plt.Rectangle((x_coord,y_coord-0.5),1,1,lw=0,fc='firebrick')\n",
    "    ax.add_patch(rect)\n",
    "\n",
    "\n",
    "y_pos = np.arange(len(increase.index))\n",
    "totals = list(total.iloc[:,-1])\n",
    "totals.reverse()\n",
    "colors = cm.Spectral_r(np.array(totals) / float(max(totals)))\n",
    "ax1.barh(y_pos, totals, color=colors)\n",
    "ax1.set_yticks([],[])\n",
    "ax1.set_ylim(min(y_pos)-0.5, max(y_pos)+0.5)\n",
    "ax1.spines['right'].set_visible(False)\n",
    "ax1.spines['top'].set_visible(False)\n",
    "ax1.set_xlabel(\"Total number of cases\")\n",
    "ax1.tick_params(labelsize=5)\n",
    "\n",
    "ax.set_title(\"7-day rolling average of confirmed cases, normalized to the maximum value\")\n",
    "fig.savefig(\"cases.png\",dpi=300)"
   ]
  }
 ],
 "metadata": {
  "kernelspec": {
   "display_name": "Python 3",
   "language": "python",
   "name": "python3"
  },
  "language_info": {
   "codemirror_mode": {
    "name": "ipython",
    "version": 3
   },
   "file_extension": ".py",
   "mimetype": "text/x-python",
   "name": "python",
   "nbconvert_exporter": "python",
   "pygments_lexer": "ipython3",
   "version": "3.8.5"
  }
 },
 "nbformat": 4,
 "nbformat_minor": 4
}
